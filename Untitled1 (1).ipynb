{
 "cells": [
  {
   "cell_type": "code",
   "execution_count": 1,
   "id": "b83aab15",
   "metadata": {},
   "outputs": [],
   "source": [
    "import pandas as pd\n",
    "import matplotlib.pyplot as plt\n",
    "import seaborn as sns\n",
    "import numpy as np"
   ]
  },
  {
   "cell_type": "code",
   "execution_count": 2,
   "id": "780252c3",
   "metadata": {},
   "outputs": [
    {
     "data": {
      "text/html": [
       "<div>\n",
       "<style scoped>\n",
       "    .dataframe tbody tr th:only-of-type {\n",
       "        vertical-align: middle;\n",
       "    }\n",
       "\n",
       "    .dataframe tbody tr th {\n",
       "        vertical-align: top;\n",
       "    }\n",
       "\n",
       "    .dataframe thead th {\n",
       "        text-align: right;\n",
       "    }\n",
       "</style>\n",
       "<table border=\"1\" class=\"dataframe\">\n",
       "  <thead>\n",
       "    <tr style=\"text-align: right;\">\n",
       "      <th></th>\n",
       "      <th>FSC-A</th>\n",
       "      <th>SSC-A</th>\n",
       "    </tr>\n",
       "  </thead>\n",
       "  <tbody>\n",
       "    <tr>\n",
       "      <th>0</th>\n",
       "      <td>96.8</td>\n",
       "      <td>1552.3201</td>\n",
       "    </tr>\n",
       "    <tr>\n",
       "      <th>1</th>\n",
       "      <td>252.8</td>\n",
       "      <td>1641.4200</td>\n",
       "    </tr>\n",
       "    <tr>\n",
       "      <th>2</th>\n",
       "      <td>248.0</td>\n",
       "      <td>1152.3600</td>\n",
       "    </tr>\n",
       "    <tr>\n",
       "      <th>3</th>\n",
       "      <td>229.6</td>\n",
       "      <td>708.8400</td>\n",
       "    </tr>\n",
       "    <tr>\n",
       "      <th>4</th>\n",
       "      <td>289.6</td>\n",
       "      <td>1036.5300</td>\n",
       "    </tr>\n",
       "    <tr>\n",
       "      <th>...</th>\n",
       "      <td>...</td>\n",
       "      <td>...</td>\n",
       "    </tr>\n",
       "    <tr>\n",
       "      <th>99995</th>\n",
       "      <td>1481.6</td>\n",
       "      <td>420.7500</td>\n",
       "    </tr>\n",
       "    <tr>\n",
       "      <th>99996</th>\n",
       "      <td>860.0</td>\n",
       "      <td>544.5000</td>\n",
       "    </tr>\n",
       "    <tr>\n",
       "      <th>99997</th>\n",
       "      <td>2175.2</td>\n",
       "      <td>1025.6400</td>\n",
       "    </tr>\n",
       "    <tr>\n",
       "      <th>99998</th>\n",
       "      <td>1770.4</td>\n",
       "      <td>590.0400</td>\n",
       "    </tr>\n",
       "    <tr>\n",
       "      <th>99999</th>\n",
       "      <td>1089.6</td>\n",
       "      <td>530.6400</td>\n",
       "    </tr>\n",
       "  </tbody>\n",
       "</table>\n",
       "<p>100000 rows × 2 columns</p>\n",
       "</div>"
      ],
      "text/plain": [
       "        FSC-A      SSC-A\n",
       "0        96.8  1552.3201\n",
       "1       252.8  1641.4200\n",
       "2       248.0  1152.3600\n",
       "3       229.6   708.8400\n",
       "4       289.6  1036.5300\n",
       "...       ...        ...\n",
       "99995  1481.6   420.7500\n",
       "99996   860.0   544.5000\n",
       "99997  2175.2  1025.6400\n",
       "99998  1770.4   590.0400\n",
       "99999  1089.6   530.6400\n",
       "\n",
       "[100000 rows x 2 columns]"
      ]
     },
     "execution_count": 2,
     "metadata": {},
     "output_type": "execute_result"
    }
   ],
   "source": [
    "data1 = pd.read_csv(\"C:/Users/ankit/OneDrive/Desktop/New folder/CHD1_1.fcs.csv\")\n",
    "\n",
    "X=data1[['FSC-A','SSC-A']]\n",
    "X"
   ]
  },
  {
   "cell_type": "code",
   "execution_count": 3,
   "id": "37b38c01",
   "metadata": {},
   "outputs": [
    {
     "data": {
      "text/html": [
       "<div>\n",
       "<style scoped>\n",
       "    .dataframe tbody tr th:only-of-type {\n",
       "        vertical-align: middle;\n",
       "    }\n",
       "\n",
       "    .dataframe tbody tr th {\n",
       "        vertical-align: top;\n",
       "    }\n",
       "\n",
       "    .dataframe thead th {\n",
       "        text-align: right;\n",
       "    }\n",
       "</style>\n",
       "<table border=\"1\" class=\"dataframe\">\n",
       "  <thead>\n",
       "    <tr style=\"text-align: right;\">\n",
       "      <th></th>\n",
       "      <th>FSC-A</th>\n",
       "      <th>SSC-A</th>\n",
       "    </tr>\n",
       "  </thead>\n",
       "  <tbody>\n",
       "    <tr>\n",
       "      <th>0</th>\n",
       "      <td>-0.505300</td>\n",
       "      <td>-0.005047</td>\n",
       "    </tr>\n",
       "    <tr>\n",
       "      <th>1</th>\n",
       "      <td>-0.403875</td>\n",
       "      <td>0.020438</td>\n",
       "    </tr>\n",
       "    <tr>\n",
       "      <th>2</th>\n",
       "      <td>-0.406996</td>\n",
       "      <td>-0.119447</td>\n",
       "    </tr>\n",
       "    <tr>\n",
       "      <th>3</th>\n",
       "      <td>-0.418959</td>\n",
       "      <td>-0.246306</td>\n",
       "    </tr>\n",
       "    <tr>\n",
       "      <th>4</th>\n",
       "      <td>-0.379949</td>\n",
       "      <td>-0.152577</td>\n",
       "    </tr>\n",
       "    <tr>\n",
       "      <th>...</th>\n",
       "      <td>...</td>\n",
       "      <td>...</td>\n",
       "    </tr>\n",
       "    <tr>\n",
       "      <th>99995</th>\n",
       "      <td>0.395043</td>\n",
       "      <td>-0.328707</td>\n",
       "    </tr>\n",
       "    <tr>\n",
       "      <th>99996</th>\n",
       "      <td>-0.009097</td>\n",
       "      <td>-0.293311</td>\n",
       "    </tr>\n",
       "    <tr>\n",
       "      <th>99997</th>\n",
       "      <td>0.845995</td>\n",
       "      <td>-0.155692</td>\n",
       "    </tr>\n",
       "    <tr>\n",
       "      <th>99998</th>\n",
       "      <td>0.582810</td>\n",
       "      <td>-0.280286</td>\n",
       "    </tr>\n",
       "    <tr>\n",
       "      <th>99999</th>\n",
       "      <td>0.140180</td>\n",
       "      <td>-0.297276</td>\n",
       "    </tr>\n",
       "  </tbody>\n",
       "</table>\n",
       "<p>100000 rows × 2 columns</p>\n",
       "</div>"
      ],
      "text/plain": [
       "          FSC-A     SSC-A\n",
       "0     -0.505300 -0.005047\n",
       "1     -0.403875  0.020438\n",
       "2     -0.406996 -0.119447\n",
       "3     -0.418959 -0.246306\n",
       "4     -0.379949 -0.152577\n",
       "...         ...       ...\n",
       "99995  0.395043 -0.328707\n",
       "99996 -0.009097 -0.293311\n",
       "99997  0.845995 -0.155692\n",
       "99998  0.582810 -0.280286\n",
       "99999  0.140180 -0.297276\n",
       "\n",
       "[100000 rows x 2 columns]"
      ]
     },
     "execution_count": 3,
     "metadata": {},
     "output_type": "execute_result"
    }
   ],
   "source": [
    "X_mc = (X-X.mean())/(X.std())\n",
    "X_mc"
   ]
  },
  {
   "cell_type": "code",
   "execution_count": null,
   "id": "1a3e3d59",
   "metadata": {},
   "outputs": [],
   "source": []
  },
  {
   "cell_type": "code",
   "execution_count": 13,
   "id": "dde53537",
   "metadata": {},
   "outputs": [
    {
     "data": {
      "text/html": [
       "<div>\n",
       "<style scoped>\n",
       "    .dataframe tbody tr th:only-of-type {\n",
       "        vertical-align: middle;\n",
       "    }\n",
       "\n",
       "    .dataframe tbody tr th {\n",
       "        vertical-align: top;\n",
       "    }\n",
       "\n",
       "    .dataframe thead th {\n",
       "        text-align: right;\n",
       "    }\n",
       "</style>\n",
       "<table border=\"1\" class=\"dataframe\">\n",
       "  <thead>\n",
       "    <tr style=\"text-align: right;\">\n",
       "      <th></th>\n",
       "      <th>FSC-A</th>\n",
       "      <th>SSC-A</th>\n",
       "    </tr>\n",
       "  </thead>\n",
       "  <tbody>\n",
       "    <tr>\n",
       "      <th>0</th>\n",
       "      <td>773.60004</td>\n",
       "      <td>369.27000</td>\n",
       "    </tr>\n",
       "    <tr>\n",
       "      <th>1</th>\n",
       "      <td>1318.40000</td>\n",
       "      <td>814.77000</td>\n",
       "    </tr>\n",
       "    <tr>\n",
       "      <th>2</th>\n",
       "      <td>1179.20010</td>\n",
       "      <td>414.81000</td>\n",
       "    </tr>\n",
       "    <tr>\n",
       "      <th>3</th>\n",
       "      <td>1446.40000</td>\n",
       "      <td>623.70000</td>\n",
       "    </tr>\n",
       "    <tr>\n",
       "      <th>4</th>\n",
       "      <td>1466.40000</td>\n",
       "      <td>1769.13000</td>\n",
       "    </tr>\n",
       "    <tr>\n",
       "      <th>...</th>\n",
       "      <td>...</td>\n",
       "      <td>...</td>\n",
       "    </tr>\n",
       "    <tr>\n",
       "      <th>99995</th>\n",
       "      <td>774.40000</td>\n",
       "      <td>666.27000</td>\n",
       "    </tr>\n",
       "    <tr>\n",
       "      <th>99996</th>\n",
       "      <td>1298.40000</td>\n",
       "      <td>514.80000</td>\n",
       "    </tr>\n",
       "    <tr>\n",
       "      <th>99997</th>\n",
       "      <td>838.40000</td>\n",
       "      <td>388.08002</td>\n",
       "    </tr>\n",
       "    <tr>\n",
       "      <th>99998</th>\n",
       "      <td>495.20000</td>\n",
       "      <td>432.63000</td>\n",
       "    </tr>\n",
       "    <tr>\n",
       "      <th>99999</th>\n",
       "      <td>878.40000</td>\n",
       "      <td>2095.83000</td>\n",
       "    </tr>\n",
       "  </tbody>\n",
       "</table>\n",
       "<p>100000 rows × 2 columns</p>\n",
       "</div>"
      ],
      "text/plain": [
       "            FSC-A       SSC-A\n",
       "0       773.60004   369.27000\n",
       "1      1318.40000   814.77000\n",
       "2      1179.20010   414.81000\n",
       "3      1446.40000   623.70000\n",
       "4      1466.40000  1769.13000\n",
       "...           ...         ...\n",
       "99995   774.40000   666.27000\n",
       "99996  1298.40000   514.80000\n",
       "99997   838.40000   388.08002\n",
       "99998   495.20000   432.63000\n",
       "99999   878.40000  2095.83000\n",
       "\n",
       "[100000 rows x 2 columns]"
      ]
     },
     "execution_count": 13,
     "metadata": {},
     "output_type": "execute_result"
    }
   ],
   "source": [
    "data2=pd.read_csv(\"C:\\\\Users\\\\ankit\\\\Downloads\\\\PCD1_3.fcs.csv\") \n",
    "Y=data2[['FSC-A','SSC-A']]\n",
    "Y\n"
   ]
  },
  {
   "cell_type": "code",
   "execution_count": 14,
   "id": "257d36c1",
   "metadata": {},
   "outputs": [
    {
     "data": {
      "text/html": [
       "<div>\n",
       "<style scoped>\n",
       "    .dataframe tbody tr th:only-of-type {\n",
       "        vertical-align: middle;\n",
       "    }\n",
       "\n",
       "    .dataframe tbody tr th {\n",
       "        vertical-align: top;\n",
       "    }\n",
       "\n",
       "    .dataframe thead th {\n",
       "        text-align: right;\n",
       "    }\n",
       "</style>\n",
       "<table border=\"1\" class=\"dataframe\">\n",
       "  <thead>\n",
       "    <tr style=\"text-align: right;\">\n",
       "      <th></th>\n",
       "      <th>FSC-A</th>\n",
       "      <th>SSC-A</th>\n",
       "    </tr>\n",
       "  </thead>\n",
       "  <tbody>\n",
       "    <tr>\n",
       "      <th>0</th>\n",
       "      <td>-0.023994</td>\n",
       "      <td>-0.272825</td>\n",
       "    </tr>\n",
       "    <tr>\n",
       "      <th>1</th>\n",
       "      <td>0.255936</td>\n",
       "      <td>-0.152528</td>\n",
       "    </tr>\n",
       "    <tr>\n",
       "      <th>2</th>\n",
       "      <td>0.184412</td>\n",
       "      <td>-0.260528</td>\n",
       "    </tr>\n",
       "    <tr>\n",
       "      <th>3</th>\n",
       "      <td>0.321706</td>\n",
       "      <td>-0.204122</td>\n",
       "    </tr>\n",
       "    <tr>\n",
       "      <th>4</th>\n",
       "      <td>0.331982</td>\n",
       "      <td>0.105176</td>\n",
       "    </tr>\n",
       "    <tr>\n",
       "      <th>...</th>\n",
       "      <td>...</td>\n",
       "      <td>...</td>\n",
       "    </tr>\n",
       "    <tr>\n",
       "      <th>99995</th>\n",
       "      <td>-0.023583</td>\n",
       "      <td>-0.192627</td>\n",
       "    </tr>\n",
       "    <tr>\n",
       "      <th>99996</th>\n",
       "      <td>0.245660</td>\n",
       "      <td>-0.233528</td>\n",
       "    </tr>\n",
       "    <tr>\n",
       "      <th>99997</th>\n",
       "      <td>0.009302</td>\n",
       "      <td>-0.267746</td>\n",
       "    </tr>\n",
       "    <tr>\n",
       "      <th>99998</th>\n",
       "      <td>-0.167042</td>\n",
       "      <td>-0.255716</td>\n",
       "    </tr>\n",
       "    <tr>\n",
       "      <th>99999</th>\n",
       "      <td>0.029854</td>\n",
       "      <td>0.193394</td>\n",
       "    </tr>\n",
       "  </tbody>\n",
       "</table>\n",
       "<p>100000 rows × 2 columns</p>\n",
       "</div>"
      ],
      "text/plain": [
       "          FSC-A     SSC-A\n",
       "0     -0.023994 -0.272825\n",
       "1      0.255936 -0.152528\n",
       "2      0.184412 -0.260528\n",
       "3      0.321706 -0.204122\n",
       "4      0.331982  0.105176\n",
       "...         ...       ...\n",
       "99995 -0.023583 -0.192627\n",
       "99996  0.245660 -0.233528\n",
       "99997  0.009302 -0.267746\n",
       "99998 -0.167042 -0.255716\n",
       "99999  0.029854  0.193394\n",
       "\n",
       "[100000 rows x 2 columns]"
      ]
     },
     "execution_count": 14,
     "metadata": {},
     "output_type": "execute_result"
    }
   ],
   "source": [
    "Y_mc = (Y-Y.mean())/(Y.std())\n",
    "Y_mc"
   ]
  },
  {
   "cell_type": "code",
   "execution_count": 15,
   "id": "c57fbf76",
   "metadata": {},
   "outputs": [],
   "source": [
    "from sklearn.cross_decomposition import CCA"
   ]
  },
  {
   "cell_type": "code",
   "execution_count": 16,
   "id": "1152b5e0",
   "metadata": {},
   "outputs": [
    {
     "name": "stdout",
     "output_type": "stream",
     "text": [
      "(100000, 2)\n",
      "(100000, 2)\n"
     ]
    }
   ],
   "source": [
    "ca = CCA()\n",
    "ca.fit(X_mc, Y_mc)\n",
    "X_c, Y_c = ca.transform(X_mc, Y_mc)\n",
    "print(X_c.shape)\n",
    "print(Y_c.shape)"
   ]
  },
  {
   "cell_type": "code",
   "execution_count": 17,
   "id": "4fcd8d64",
   "metadata": {},
   "outputs": [
    {
     "data": {
      "text/html": [
       "<div>\n",
       "<style scoped>\n",
       "    .dataframe tbody tr th:only-of-type {\n",
       "        vertical-align: middle;\n",
       "    }\n",
       "\n",
       "    .dataframe tbody tr th {\n",
       "        vertical-align: top;\n",
       "    }\n",
       "\n",
       "    .dataframe thead th {\n",
       "        text-align: right;\n",
       "    }\n",
       "</style>\n",
       "<table border=\"1\" class=\"dataframe\">\n",
       "  <thead>\n",
       "    <tr style=\"text-align: right;\">\n",
       "      <th></th>\n",
       "      <th>CCX_1</th>\n",
       "      <th>CCY_1</th>\n",
       "      <th>CCX_2</th>\n",
       "      <th>CCY_2</th>\n",
       "    </tr>\n",
       "  </thead>\n",
       "  <tbody>\n",
       "    <tr>\n",
       "      <th>0</th>\n",
       "      <td>-0.406914</td>\n",
       "      <td>-0.233447</td>\n",
       "      <td>0.031977</td>\n",
       "      <td>0.137062</td>\n",
       "    </tr>\n",
       "    <tr>\n",
       "      <th>1</th>\n",
       "      <td>-0.339550</td>\n",
       "      <td>-0.250709</td>\n",
       "      <td>0.057072</td>\n",
       "      <td>0.461982</td>\n",
       "    </tr>\n",
       "    <tr>\n",
       "      <th>2</th>\n",
       "      <td>-0.260268</td>\n",
       "      <td>-0.315443</td>\n",
       "      <td>-0.122826</td>\n",
       "      <td>0.427500</td>\n",
       "    </tr>\n",
       "    <tr>\n",
       "      <th>3</th>\n",
       "      <td>-0.195777</td>\n",
       "      <td>-0.326231</td>\n",
       "      <td>-0.285277</td>\n",
       "      <td>0.588489</td>\n",
       "    </tr>\n",
       "    <tr>\n",
       "      <th>4</th>\n",
       "      <td>-0.218953</td>\n",
       "      <td>-0.054023</td>\n",
       "      <td>-0.167549</td>\n",
       "      <td>0.408889</td>\n",
       "    </tr>\n",
       "    <tr>\n",
       "      <th>...</th>\n",
       "      <td>...</td>\n",
       "      <td>...</td>\n",
       "      <td>...</td>\n",
       "      <td>...</td>\n",
       "    </tr>\n",
       "    <tr>\n",
       "      <th>99995</th>\n",
       "      <td>0.512681</td>\n",
       "      <td>-0.161860</td>\n",
       "      <td>-0.453373</td>\n",
       "      <td>0.087269</td>\n",
       "    </tr>\n",
       "    <tr>\n",
       "      <th>99996</th>\n",
       "      <td>0.164167</td>\n",
       "      <td>-0.318611</td>\n",
       "      <td>-0.377018</td>\n",
       "      <td>0.498165</td>\n",
       "    </tr>\n",
       "    <tr>\n",
       "      <th>99997</th>\n",
       "      <td>0.777274</td>\n",
       "      <td>-0.243760</td>\n",
       "      <td>-0.264912</td>\n",
       "      <td>0.181507</td>\n",
       "    </tr>\n",
       "    <tr>\n",
       "      <th>99998</th>\n",
       "      <td>0.636665</td>\n",
       "      <td>-0.154302</td>\n",
       "      <td>-0.405316</td>\n",
       "      <td>-0.078342</td>\n",
       "    </tr>\n",
       "    <tr>\n",
       "      <th>99999</th>\n",
       "      <td>0.287569</td>\n",
       "      <td>0.159748</td>\n",
       "      <td>-0.393490</td>\n",
       "      <td>-0.078778</td>\n",
       "    </tr>\n",
       "  </tbody>\n",
       "</table>\n",
       "<p>100000 rows × 4 columns</p>\n",
       "</div>"
      ],
      "text/plain": [
       "          CCX_1     CCY_1     CCX_2     CCY_2\n",
       "0     -0.406914 -0.233447  0.031977  0.137062\n",
       "1     -0.339550 -0.250709  0.057072  0.461982\n",
       "2     -0.260268 -0.315443 -0.122826  0.427500\n",
       "3     -0.195777 -0.326231 -0.285277  0.588489\n",
       "4     -0.218953 -0.054023 -0.167549  0.408889\n",
       "...         ...       ...       ...       ...\n",
       "99995  0.512681 -0.161860 -0.453373  0.087269\n",
       "99996  0.164167 -0.318611 -0.377018  0.498165\n",
       "99997  0.777274 -0.243760 -0.264912  0.181507\n",
       "99998  0.636665 -0.154302 -0.405316 -0.078342\n",
       "99999  0.287569  0.159748 -0.393490 -0.078778\n",
       "\n",
       "[100000 rows x 4 columns]"
      ]
     },
     "execution_count": 17,
     "metadata": {},
     "output_type": "execute_result"
    }
   ],
   "source": [
    "cc_res = pd.DataFrame({\"CCX_1\":X_c[:, 0],\n",
    "                       \"CCY_1\":Y_c[:, 0],\n",
    "                       \"CCX_2\":X_c[:, 1],\n",
    "                       \"CCY_2\":Y_c[:, 1],\n",
    "                       })\n",
    "cc_res"
   ]
  },
  {
   "cell_type": "code",
   "execution_count": 18,
   "id": "74703462",
   "metadata": {},
   "outputs": [
    {
     "data": {
      "text/plain": [
       "array([[1.        , 0.00642279],\n",
       "       [0.00642279, 1.        ]])"
      ]
     },
     "execution_count": 18,
     "metadata": {},
     "output_type": "execute_result"
    }
   ],
   "source": [
    "import numpy as np\n",
    "np.corrcoef(X_c[:, 0], Y_c[:, 0])"
   ]
  },
  {
   "cell_type": "code",
   "execution_count": 19,
   "id": "59fcfbf3",
   "metadata": {},
   "outputs": [
    {
     "data": {
      "text/plain": [
       "array([[1.0000000e+00, 8.3731887e-05],\n",
       "       [8.3731887e-05, 1.0000000e+00]])"
      ]
     },
     "execution_count": 19,
     "metadata": {},
     "output_type": "execute_result"
    }
   ],
   "source": [
    "np.corrcoef(X_c[:, 1], Y_c[:, 1])\n",
    " \n",
    "    "
   ]
  },
  {
   "cell_type": "code",
   "execution_count": 29,
   "id": "9525c194",
   "metadata": {},
   "outputs": [
    {
     "data": {
      "text/plain": [
       "Text(0.5, 1.0, 'Comp. 1, corr = 0.01')"
      ]
     },
     "execution_count": 29,
     "metadata": {},
     "output_type": "execute_result"
    },
    {
     "data": {
      "image/png": "[encoded data removed]",
      "text/plain": [
       "<Figure size 720x576 with 1 Axes>"
      ]
     },
     "metadata": {
      "needs_background": "light"
     },
     "output_type": "display_data"
    }
   ],
   "source": [
    "sns.set_context(\"talk\", font_scale=1)\n",
    "plt.figure(figsize=(10,8))\n",
    "sns.scatterplot(x=\"CCX_1\",\n",
    "                y=\"CCY_1\", \n",
    "                data=cc_res)\n",
    "plt.title('Comp. 1, corr = %.2f' %\n",
    "         np.corrcoef(X_c[:, 0], Y_c[:, 0])[0, 1])"
   ]
  },
  {
   "cell_type": "code",
   "execution_count": 22,
   "id": "853ef792",
   "metadata": {},
   "outputs": [
    {
     "data": {
      "text/plain": [
       "Text(0.5, 1.0, 'First Pair of Canonical Covariate, corr = 0.01')"
      ]
     },
     "execution_count": 22,
     "metadata": {},
     "output_type": "execute_result"
    },
    {
     "data": {
      "image/png": "[encoded data removed]",
      "text/plain": [
       "<Figure size 720x576 with 1 Axes>"
      ]
     },
     "metadata": {
      "needs_background": "light"
     },
     "output_type": "display_data"
    }
   ],
   "source": [
    "plt.figure(figsize=(10,8))\n",
    "sns.scatterplot(x=\"CCX_1\",\n",
    "                y=\"CCY_1\", data=cc_res)\n",
    "plt.title('First Pair of Canonical Covariate, corr = %.2f' %\n",
    "         np.corrcoef(X_c[:, 0], Y_c[:, 0])[0, 1])"
   ]
  },
  {
   "cell_type": "code",
   "execution_count": 23,
   "id": "5fb52e44",
   "metadata": {},
   "outputs": [
    {
     "data": {
      "text/html": [
       "<div>\n",
       "<style scoped>\n",
       "    .dataframe tbody tr th:only-of-type {\n",
       "        vertical-align: middle;\n",
       "    }\n",
       "\n",
       "    .dataframe tbody tr th {\n",
       "        vertical-align: top;\n",
       "    }\n",
       "\n",
       "    .dataframe thead th {\n",
       "        text-align: right;\n",
       "    }\n",
       "</style>\n",
       "<table border=\"1\" class=\"dataframe\">\n",
       "  <thead>\n",
       "    <tr style=\"text-align: right;\">\n",
       "      <th></th>\n",
       "      <th>CCX_1</th>\n",
       "      <th>CCX_2</th>\n",
       "    </tr>\n",
       "  </thead>\n",
       "  <tbody>\n",
       "    <tr>\n",
       "      <th>0</th>\n",
       "      <td>-0.406914</td>\n",
       "      <td>0.031977</td>\n",
       "    </tr>\n",
       "    <tr>\n",
       "      <th>1</th>\n",
       "      <td>-0.339550</td>\n",
       "      <td>0.057072</td>\n",
       "    </tr>\n",
       "    <tr>\n",
       "      <th>2</th>\n",
       "      <td>-0.260268</td>\n",
       "      <td>-0.122826</td>\n",
       "    </tr>\n",
       "    <tr>\n",
       "      <th>3</th>\n",
       "      <td>-0.195777</td>\n",
       "      <td>-0.285277</td>\n",
       "    </tr>\n",
       "    <tr>\n",
       "      <th>4</th>\n",
       "      <td>-0.218953</td>\n",
       "      <td>-0.167549</td>\n",
       "    </tr>\n",
       "    <tr>\n",
       "      <th>...</th>\n",
       "      <td>...</td>\n",
       "      <td>...</td>\n",
       "    </tr>\n",
       "    <tr>\n",
       "      <th>99995</th>\n",
       "      <td>0.512681</td>\n",
       "      <td>-0.453373</td>\n",
       "    </tr>\n",
       "    <tr>\n",
       "      <th>99996</th>\n",
       "      <td>0.164167</td>\n",
       "      <td>-0.377018</td>\n",
       "    </tr>\n",
       "    <tr>\n",
       "      <th>99997</th>\n",
       "      <td>0.777274</td>\n",
       "      <td>-0.264912</td>\n",
       "    </tr>\n",
       "    <tr>\n",
       "      <th>99998</th>\n",
       "      <td>0.636665</td>\n",
       "      <td>-0.405316</td>\n",
       "    </tr>\n",
       "    <tr>\n",
       "      <th>99999</th>\n",
       "      <td>0.287569</td>\n",
       "      <td>-0.393490</td>\n",
       "    </tr>\n",
       "  </tbody>\n",
       "</table>\n",
       "<p>100000 rows × 2 columns</p>\n",
       "</div>"
      ],
      "text/plain": [
       "          CCX_1     CCX_2\n",
       "0     -0.406914  0.031977\n",
       "1     -0.339550  0.057072\n",
       "2     -0.260268 -0.122826\n",
       "3     -0.195777 -0.285277\n",
       "4     -0.218953 -0.167549\n",
       "...         ...       ...\n",
       "99995  0.512681 -0.453373\n",
       "99996  0.164167 -0.377018\n",
       "99997  0.777274 -0.264912\n",
       "99998  0.636665 -0.405316\n",
       "99999  0.287569 -0.393490\n",
       "\n",
       "[100000 rows x 2 columns]"
      ]
     },
     "execution_count": 23,
     "metadata": {},
     "output_type": "execute_result"
    }
   ],
   "source": [
    "ccX_df = pd.DataFrame({\"CCX_1\":X_c[:, 0],\n",
    "                       \"CCX_2\":X_c[:, 1],\n",
    "                       })\n",
    "ccX_df"
   ]
  },
  {
   "cell_type": "code",
   "execution_count": 24,
   "id": "9f7a447b",
   "metadata": {},
   "outputs": [
    {
     "data": {
      "text/html": [
       "<div>\n",
       "<style scoped>\n",
       "    .dataframe tbody tr th:only-of-type {\n",
       "        vertical-align: middle;\n",
       "    }\n",
       "\n",
       "    .dataframe tbody tr th {\n",
       "        vertical-align: top;\n",
       "    }\n",
       "\n",
       "    .dataframe thead th {\n",
       "        text-align: right;\n",
       "    }\n",
       "</style>\n",
       "<table border=\"1\" class=\"dataframe\">\n",
       "  <thead>\n",
       "    <tr style=\"text-align: right;\">\n",
       "      <th></th>\n",
       "      <th>CCX_1</th>\n",
       "      <th>CCX_2</th>\n",
       "    </tr>\n",
       "  </thead>\n",
       "  <tbody>\n",
       "    <tr>\n",
       "      <th>CCX_1</th>\n",
       "      <td>1.000000e+00</td>\n",
       "      <td>-9.386546e-17</td>\n",
       "    </tr>\n",
       "    <tr>\n",
       "      <th>CCX_2</th>\n",
       "      <td>-9.386546e-17</td>\n",
       "      <td>1.000000e+00</td>\n",
       "    </tr>\n",
       "  </tbody>\n",
       "</table>\n",
       "</div>"
      ],
      "text/plain": [
       "              CCX_1         CCX_2\n",
       "CCX_1  1.000000e+00 -9.386546e-17\n",
       "CCX_2 -9.386546e-17  1.000000e+00"
      ]
     },
     "execution_count": 24,
     "metadata": {},
     "output_type": "execute_result"
    }
   ],
   "source": [
    "corr_X_df= ccX_df.corr(method='pearson') \n",
    "corr_X_df.head()"
   ]
  },
  {
   "cell_type": "code",
   "execution_count": 25,
   "id": "d9e42884",
   "metadata": {},
   "outputs": [
    {
     "name": "stderr",
     "output_type": "stream",
     "text": [
      "C:\\Users\\ankit\\AppData\\Local\\Temp/ipykernel_19360/2496090609.py:2: DeprecationWarning: `np.bool` is a deprecated alias for the builtin `bool`. To silence this warning, use `bool` by itself. Doing this will not modify any behavior and is safe. If you specifically wanted the numpy scalar type, use `np.bool_` here.\n",
      "Deprecated in NumPy 1.20; for more details and guidance: https://numpy.org/devdocs/release/1.20.0-notes.html#deprecations\n",
      "  X_df_lt = corr_X_df.where(np.tril(np.ones(corr_X_df.shape)).astype(np.bool))\n"
     ]
    },
    {
     "data": {
      "text/plain": [
       "<Figure size 432x288 with 0 Axes>"
      ]
     },
     "metadata": {},
     "output_type": "display_data"
    }
   ],
   "source": [
    "plt.figure()\n",
    "X_df_lt = corr_X_df.where(np.tril(np.ones(corr_X_df.shape)).astype(np.bool))\n"
   ]
  },
  {
   "cell_type": "code",
   "execution_count": 26,
   "id": "da771f64",
   "metadata": {
    "scrolled": true
   },
   "outputs": [
    {
     "data": {
      "image/png": "[encoded data removed]",
      "text/plain": [
       "<Figure size 432x288 with 2 Axes>"
      ]
     },
     "metadata": {
      "needs_background": "light"
     },
     "output_type": "display_data"
    }
   ],
   "source": [
    "sns.heatmap(X_df_lt,cmap=\"coolwarm\",annot=True,fmt='.1g')\n",
    "plt.tight_layout()\n",
    "plt.savefig(\"Heatmap_Canonical_Correlates_from_X_and_data.jpg\",\n",
    "                    format='jpeg',\n",
    "                    dpi=100)"
   ]
  },
  {
   "cell_type": "code",
   "execution_count": 27,
   "id": "06bf4768",
   "metadata": {},
   "outputs": [
    {
     "name": "stderr",
     "output_type": "stream",
     "text": [
      "C:\\Users\\ankit\\AppData\\Local\\Temp/ipykernel_19360/3080206726.py:9: DeprecationWarning: `np.bool` is a deprecated alias for the builtin `bool`. To silence this warning, use `bool` by itself. Doing this will not modify any behavior and is safe. If you specifically wanted the numpy scalar type, use `np.bool_` here.\n",
      "Deprecated in NumPy 1.20; for more details and guidance: https://numpy.org/devdocs/release/1.20.0-notes.html#deprecations\n",
      "  Y_df_lt = corr_Y_df.where(np.tril(np.ones(corr_Y_df.shape)).astype(np.bool))\n"
     ]
    },
    {
     "data": {
      "image/png": "[encoded data removed]",
      "text/plain": [
       "<Figure size 720x576 with 2 Axes>"
      ]
     },
     "metadata": {
      "needs_background": "light"
     },
     "output_type": "display_data"
    }
   ],
   "source": [
    "ccY_df = pd.DataFrame({\"CCY_1\":Y_c[:, 0],\n",
    "                       \"CCY_2\":Y_c[:, 1],\n",
    "                       })\n",
    " \n",
    "# compute correlation with Pandas corr()\n",
    "corr_Y_df= ccY_df.corr(method='pearson') \n",
    " \n",
    "# Get lower triangular correlation matrix\n",
    "Y_df_lt = corr_Y_df.where(np.tril(np.ones(corr_Y_df.shape)).astype(np.bool))\n",
    " \n",
    "# make a lower triangular correlation heatmap with Seaborn\n",
    "plt.figure(figsize=(10,8))\n",
    "sns.heatmap(Y_df_lt,cmap=\"coolwarm\",annot=True,fmt='.1g')\n",
    "plt.tight_layout()\n",
    "plt.savefig(\"Heatmap_Canonical_Correlates_from_Y_and_data.jpg\",\n",
    "                    format='jpeg',\n",
    "                    dpi=100)"
   ]
  },
  {
   "cell_type": "code",
   "execution_count": null,
   "id": "de4ad6ec",
   "metadata": {},
   "outputs": [],
   "source": []
  },
  {
   "cell_type": "code",
   "execution_count": null,
   "id": "8ec80001",
   "metadata": {},
   "outputs": [],
   "source": []
  },
  {
   "cell_type": "code",
   "execution_count": null,
   "id": "720cb6f8",
   "metadata": {},
   "outputs": [],
   "source": []
  },
  {
   "cell_type": "code",
   "execution_count": null,
   "id": "299cf019",
   "metadata": {},
   "outputs": [],
   "source": []
  }
 ],
 "metadata": {
  "kernelspec": {
   "display_name": "Python 3 (ipykernel)",
   "language": "python",
   "name": "python3"
  },
  "language_info": {
   "codemirror_mode": {
    "name": "ipython",
    "version": 3
   },
   "file_extension": ".py",
   "mimetype": "text/x-python",
   "name": "python",
   "nbconvert_exporter": "python",
   "pygments_lexer": "ipython3",
   "version": "3.9.7"
  }
 },
 "nbformat": 4,
 "nbformat_minor": 5
}
